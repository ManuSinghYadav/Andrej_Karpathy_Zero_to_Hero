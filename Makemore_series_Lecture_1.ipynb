{
  "nbformat": 4,
  "nbformat_minor": 0,
  "metadata": {
    "colab": {
      "provenance": [],
      "authorship_tag": "ABX9TyMnZRcqvYnC7PWGXO6qk9rR",
      "include_colab_link": true
    },
    "kernelspec": {
      "name": "python3",
      "display_name": "Python 3"
    },
    "language_info": {
      "name": "python"
    }
  },
  "cells": [
    {
      "cell_type": "markdown",
      "metadata": {
        "id": "view-in-github",
        "colab_type": "text"
      },
      "source": [
        "<a href=\"https://colab.research.google.com/github/ManuSinghYadav/Andrej_Karpathy_Zero_to_Hero/blob/main/Makemore_series_Lecture_1.ipynb\" target=\"_parent\"><img src=\"https://colab.research.google.com/assets/colab-badge.svg\" alt=\"Open In Colab\"/></a>"
      ]
    },
    {
      "cell_type": "code",
      "source": [
        "import numpy as np\n",
        "import torch"
      ],
      "metadata": {
        "id": "VrgsmFsdeG1l"
      },
      "execution_count": null,
      "outputs": []
    },
    {
      "cell_type": "code",
      "source": [
        "words = open('names.txt', 'r').read().splitlines()"
      ],
      "metadata": {
        "id": "8M4bkG9bNCWK"
      },
      "execution_count": null,
      "outputs": []
    },
    {
      "cell_type": "code",
      "source": [
        "words[:3]"
      ],
      "metadata": {
        "colab": {
          "base_uri": "https://localhost:8080/"
        },
        "id": "xMsG7T3ZNIvS",
        "outputId": "5e2a4bc8-42ae-456d-a9f8-2d0ffa166c12"
      },
      "execution_count": null,
      "outputs": [
        {
          "output_type": "execute_result",
          "data": {
            "text/plain": [
              "['emma', 'olivia', 'ava']"
            ]
          },
          "metadata": {},
          "execution_count": 3
        }
      ]
    },
    {
      "cell_type": "code",
      "source": [
        "list(words[0])"
      ],
      "metadata": {
        "colab": {
          "base_uri": "https://localhost:8080/"
        },
        "id": "vnbZZGHRNrUz",
        "outputId": "6ff25a9c-0ec7-4d73-dce9-6d10248675e8"
      },
      "execution_count": null,
      "outputs": [
        {
          "output_type": "execute_result",
          "data": {
            "text/plain": [
              "['e', 'm', 'm', 'a']"
            ]
          },
          "metadata": {},
          "execution_count": 4
        }
      ]
    },
    {
      "cell_type": "code",
      "source": [
        "words_ = ['.' + w + '.' for w in words]\n",
        "words_[:10]"
      ],
      "metadata": {
        "colab": {
          "base_uri": "https://localhost:8080/"
        },
        "id": "m35UOVGpfrql",
        "outputId": "ba99ebc7-b51d-4bf5-83f2-134b5530bed8"
      },
      "execution_count": null,
      "outputs": [
        {
          "output_type": "execute_result",
          "data": {
            "text/plain": [
              "['.emma.',\n",
              " '.olivia.',\n",
              " '.ava.',\n",
              " '.isabella.',\n",
              " '.sophia.',\n",
              " '.charlotte.',\n",
              " '.mia.',\n",
              " '.amelia.',\n",
              " '.harper.',\n",
              " '.evelyn.']"
            ]
          },
          "metadata": {},
          "execution_count": 40
        }
      ]
    },
    {
      "cell_type": "code",
      "source": [
        "alphabets = sorted(set(''.join(list(words_[:500]))))"
      ],
      "metadata": {
        "id": "4oS4x4gvef4W"
      },
      "execution_count": null,
      "outputs": []
    },
    {
      "cell_type": "code",
      "source": [
        "stoi = {s:i for i,s in enumerate(alphabets)}\n",
        "itos = {i:s for s,i in stoi.items()}\n",
        "itos"
      ],
      "metadata": {
        "colab": {
          "base_uri": "https://localhost:8080/"
        },
        "id": "f7WPokQ3fNh_",
        "outputId": "127224f7-5ed4-4745-f1ae-c15271445e11"
      },
      "execution_count": null,
      "outputs": [
        {
          "output_type": "execute_result",
          "data": {
            "text/plain": [
              "{0: '.',\n",
              " 1: 'a',\n",
              " 2: 'b',\n",
              " 3: 'c',\n",
              " 4: 'd',\n",
              " 5: 'e',\n",
              " 6: 'f',\n",
              " 7: 'g',\n",
              " 8: 'h',\n",
              " 9: 'i',\n",
              " 10: 'j',\n",
              " 11: 'k',\n",
              " 12: 'l',\n",
              " 13: 'm',\n",
              " 14: 'n',\n",
              " 15: 'o',\n",
              " 16: 'p',\n",
              " 17: 'q',\n",
              " 18: 'r',\n",
              " 19: 's',\n",
              " 20: 't',\n",
              " 21: 'u',\n",
              " 22: 'v',\n",
              " 23: 'w',\n",
              " 24: 'x',\n",
              " 25: 'y',\n",
              " 26: 'z'}"
            ]
          },
          "metadata": {},
          "execution_count": 43
        }
      ]
    },
    {
      "cell_type": "code",
      "source": [
        "xs,ys=[],[]\n",
        "\n",
        "for w in words_[:1]:\n",
        "  for i in range(len(w)-1):\n",
        "    x = stoi[w[i]]\n",
        "    xs.append(x)\n",
        "    y = stoi[w[i+1]]\n",
        "    ys.append(y)\n",
        "    print(x, y)\n",
        "    print(w[i:i+2])"
      ],
      "metadata": {
        "colab": {
          "base_uri": "https://localhost:8080/"
        },
        "id": "axTr3Zq6gczz",
        "outputId": "2bfd1f91-74fb-4fc9-f1ac-59572f7d04cb"
      },
      "execution_count": null,
      "outputs": [
        {
          "output_type": "stream",
          "name": "stdout",
          "text": [
            "0 5\n",
            ".e\n",
            "5 13\n",
            "em\n",
            "13 13\n",
            "mm\n",
            "13 1\n",
            "ma\n",
            "1 0\n",
            "a.\n"
          ]
        }
      ]
    },
    {
      "cell_type": "code",
      "source": [
        "print(f'x:{xs}, \\ny:{ys}')"
      ],
      "metadata": {
        "colab": {
          "base_uri": "https://localhost:8080/"
        },
        "id": "6HaQhoUlhLjh",
        "outputId": "1b08fe3f-a153-4d0f-b8ac-51db3babf257"
      },
      "execution_count": null,
      "outputs": [
        {
          "output_type": "stream",
          "name": "stdout",
          "text": [
            "x:[0, 5, 13, 13, 1], \n",
            "y:[5, 13, 13, 1, 0]\n"
          ]
        }
      ]
    },
    {
      "cell_type": "code",
      "source": [
        "xs = torch.tensor(xs)\n",
        "ys = torch.tensor(ys)"
      ],
      "metadata": {
        "id": "BbDy9foyivMa"
      },
      "execution_count": null,
      "outputs": []
    },
    {
      "cell_type": "code",
      "source": [
        "import torch.nn.functional as F\n",
        "xenc = F.one_hot(xs.long(), num_classes=27).float()\n",
        "xenc"
      ],
      "metadata": {
        "colab": {
          "base_uri": "https://localhost:8080/"
        },
        "id": "mnd5snGqr3SQ",
        "outputId": "bf28bb6d-7b48-49bd-8fec-698aaa2b98a3"
      },
      "execution_count": null,
      "outputs": [
        {
          "output_type": "execute_result",
          "data": {
            "text/plain": [
              "tensor([[1., 0., 0., 0., 0., 0., 0., 0., 0., 0., 0., 0., 0., 0., 0., 0., 0., 0.,\n",
              "         0., 0., 0., 0., 0., 0., 0., 0., 0.],\n",
              "        [0., 0., 0., 0., 0., 1., 0., 0., 0., 0., 0., 0., 0., 0., 0., 0., 0., 0.,\n",
              "         0., 0., 0., 0., 0., 0., 0., 0., 0.],\n",
              "        [0., 0., 0., 0., 0., 0., 0., 0., 0., 0., 0., 0., 0., 1., 0., 0., 0., 0.,\n",
              "         0., 0., 0., 0., 0., 0., 0., 0., 0.],\n",
              "        [0., 0., 0., 0., 0., 0., 0., 0., 0., 0., 0., 0., 0., 1., 0., 0., 0., 0.,\n",
              "         0., 0., 0., 0., 0., 0., 0., 0., 0.],\n",
              "        [0., 1., 0., 0., 0., 0., 0., 0., 0., 0., 0., 0., 0., 0., 0., 0., 0., 0.,\n",
              "         0., 0., 0., 0., 0., 0., 0., 0., 0.]])"
            ]
          },
          "metadata": {},
          "execution_count": 184
        }
      ]
    },
    {
      "cell_type": "code",
      "source": [
        "xenc[1]"
      ],
      "metadata": {
        "colab": {
          "base_uri": "https://localhost:8080/"
        },
        "id": "ugAapqiA7Mk4",
        "outputId": "ba6f2802-67b9-46ab-e941-18610d1c0c00"
      },
      "execution_count": null,
      "outputs": [
        {
          "output_type": "execute_result",
          "data": {
            "text/plain": [
              "tensor([0., 0., 0., 0., 0., 1., 0., 0., 0., 0., 0., 0., 0., 0., 0., 0., 0., 0.,\n",
              "        0., 0., 0., 0., 0., 0., 0., 0., 0.])"
            ]
          },
          "metadata": {},
          "execution_count": 48
        }
      ]
    },
    {
      "cell_type": "code",
      "source": [
        "xenc.shape"
      ],
      "metadata": {
        "colab": {
          "base_uri": "https://localhost:8080/"
        },
        "id": "Bz2Y8OmNAjjb",
        "outputId": "d9f05625-9e79-4583-951a-cd98f82b5a09"
      },
      "execution_count": null,
      "outputs": [
        {
          "output_type": "execute_result",
          "data": {
            "text/plain": [
              "torch.Size([5, 27])"
            ]
          },
          "metadata": {},
          "execution_count": 49
        }
      ]
    },
    {
      "cell_type": "code",
      "source": [
        "g = torch.Generator().manual_seed(2147483647)\n",
        "W = torch.randn((27, 27), generator=g)"
      ],
      "metadata": {
        "id": "f2uHNHEQsPMg"
      },
      "execution_count": null,
      "outputs": []
    },
    {
      "cell_type": "code",
      "source": [
        "W"
      ],
      "metadata": {
        "colab": {
          "base_uri": "https://localhost:8080/"
        },
        "id": "vC5445Da7V4F",
        "outputId": "e50c26ea-1712-474a-924f-3598314b130c"
      },
      "execution_count": null,
      "outputs": [
        {
          "output_type": "execute_result",
          "data": {
            "text/plain": [
              "tensor([[ 1.5674e+00, -2.3729e-01, -2.7385e-02, -1.1008e+00,  2.8588e-01,\n",
              "         -2.9643e-02, -1.5471e+00,  6.0489e-01,  7.9136e-02,  9.0462e-01,\n",
              "         -4.7125e-01,  7.8682e-01, -3.2843e-01, -4.3297e-01,  1.3729e+00,\n",
              "          2.9334e+00,  1.5618e+00, -1.6261e+00,  6.7716e-01, -8.4039e-01,\n",
              "          9.8488e-01, -1.4837e-01, -1.4795e+00,  4.4830e-01, -7.0730e-02,\n",
              "          2.4968e+00,  2.4448e+00],\n",
              "        [-6.7006e-01, -1.2199e+00,  3.0314e-01, -1.0725e+00,  7.2762e-01,\n",
              "          5.1114e-02,  1.3095e+00, -8.0220e-01, -8.5042e-01, -1.8068e+00,\n",
              "          1.2523e+00, -1.2256e+00,  1.2165e+00, -9.6478e-01, -2.3211e-01,\n",
              "         -3.4762e-01,  3.3244e-01, -1.3263e+00,  1.1224e+00,  5.9641e-01,\n",
              "          4.5846e-01,  5.4011e-02, -1.7400e+00,  1.1560e-01,  8.0319e-01,\n",
              "          5.4108e-01, -1.1646e+00],\n",
              "        [ 1.4756e-01, -1.0006e+00,  3.8012e-01,  4.7328e-01, -9.1027e-01,\n",
              "         -7.8305e-01,  1.3506e-01, -2.1161e-01, -1.0406e+00, -1.5367e+00,\n",
              "          9.3743e-01, -8.8303e-01,  1.7457e+00,  2.1346e+00, -8.5614e-01,\n",
              "          5.4082e-01,  6.1690e-01,  1.5160e+00, -1.0447e+00, -6.6414e-01,\n",
              "         -7.2390e-01,  1.7507e+00,  1.7530e-01,  9.9280e-01, -6.2787e-01,\n",
              "          7.7023e-02, -1.1641e+00],\n",
              "        [ 1.2473e+00, -2.7061e-01, -1.3635e+00,  1.3066e+00,  3.2307e-01,\n",
              "          1.0358e+00, -8.6249e-01, -1.2575e+00,  9.4180e-01, -1.3257e+00,\n",
              "          1.4670e-01,  1.6913e-01, -1.5397e+00, -7.2759e-01,  1.1491e+00,\n",
              "         -8.7462e-01, -2.9771e-01, -1.3707e+00,  1.1500e-01, -1.0188e+00,\n",
              "         -8.3777e-01, -2.1057e+00, -2.6044e-01, -1.7149e+00, -3.3787e-01,\n",
              "         -1.8263e+00, -8.3897e-01],\n",
              "        [-1.5723e+00,  4.5795e-01, -5.6533e-01,  5.4281e-01,  1.7549e-01,\n",
              "         -2.2901e+00, -7.0928e-01, -2.9283e-01, -2.1803e+00,  7.9311e-02,\n",
              "          9.0187e-01,  1.2028e+00, -5.6144e-01, -1.3753e-01, -1.3799e-01,\n",
              "         -2.0977e+00, -7.9238e-01,  6.0689e-01, -1.4777e+00, -5.1029e-01,\n",
              "          5.6421e-01,  9.6838e-01, -3.1114e-01, -3.0603e-01, -1.7495e+00,\n",
              "         -1.6335e+00,  3.8761e-01],\n",
              "        [ 4.7236e-01,  1.4830e+00,  3.1748e-01,  1.0588e+00,  2.3982e+00,\n",
              "          4.6827e-01, -6.5650e-01,  6.1662e-01, -6.2197e-01,  5.1007e-01,\n",
              "          1.3563e+00,  2.3445e-01, -4.5585e-01, -1.3132e-03, -5.1161e-01,\n",
              "          5.5570e-01,  4.7458e-01, -1.3867e+00,  1.6229e+00,  1.7197e-01,\n",
              "          9.8846e-01,  5.0657e-01,  1.0198e+00, -1.9062e+00, -4.2753e-01,\n",
              "         -2.1259e+00,  9.6041e-01],\n",
              "        [ 1.2482e+00,  2.5341e-01,  2.8188e+00, -3.3983e-01,  7.0311e-01,\n",
              "          4.0716e-01, -1.9018e-01, -6.9652e-01,  1.7039e+00,  7.4204e-01,\n",
              "          9.7370e-01,  3.0028e-01, -2.8971e-01, -3.1566e-01, -8.7898e-01,\n",
              "          1.0661e-01,  1.8598e+00,  5.5752e-02,  1.2815e+00, -6.3182e-01,\n",
              "         -1.2464e+00,  6.8305e-01, -3.9455e-01,  1.4388e-02,  5.7216e-01,\n",
              "          8.6726e-01,  6.3149e-01],\n",
              "        [-1.2230e+00, -2.1286e-01,  5.0950e-01,  3.2713e-01,  1.9661e+00,\n",
              "         -2.4091e-01, -7.9515e-01,  2.7198e-01, -1.1100e+00, -4.5285e-01,\n",
              "         -4.9578e-01,  1.2648e+00,  1.4625e+00,  1.1199e+00,  9.9539e-01,\n",
              "         -1.2353e+00,  7.3818e-01,  8.1415e-01, -7.3806e-01,  5.6714e-01,\n",
              "         -1.4601e+00, -2.4780e-01,  8.8282e-01, -8.1004e-02, -9.5299e-01,\n",
              "         -4.8838e-01, -7.3712e-01],\n",
              "        [ 7.0609e-01, -1.9295e-01,  1.2348e+00,  3.3308e-01,  1.3283e+00,\n",
              "         -1.0921e+00, -8.3952e-01,  1.9098e-01, -7.1750e-01, -3.8668e-01,\n",
              "         -1.2542e+00,  1.2068e+00, -1.7102e+00, -4.7701e-01, -1.0527e+00,\n",
              "         -1.4367e-01, -2.7737e-01,  1.1634e+00, -6.6910e-01,  6.4918e-01,\n",
              "          5.8243e-01,  1.9264e+00, -3.7846e-01,  7.9577e-03,  5.1068e-01,\n",
              "          7.5927e-01, -1.6086e+00],\n",
              "        [-1.6065e-01,  1.3784e+00, -2.7804e-01,  2.0710e-01,  1.0033e+00,\n",
              "         -5.9772e-01, -3.9771e-01, -1.2801e+00,  9.2445e-02,  1.0526e-01,\n",
              "         -3.9072e-01, -4.0091e-01,  5.6533e-01, -1.5065e+00,  1.2898e+00,\n",
              "         -1.5100e+00,  1.0930e+00,  1.0797e+00, -8.6681e-02,  1.3423e+00,\n",
              "          1.5184e-01,  2.4687e-01,  3.1895e-01, -9.8614e-01, -2.1382e-01,\n",
              "         -6.4308e-02, -8.5528e-01],\n",
              "        [ 1.6113e-01,  4.4925e-01,  8.1827e-01, -8.1628e-01, -3.9243e-01,\n",
              "         -7.4521e-01, -9.4649e-01, -1.5941e-01, -1.5047e+00,  8.4682e-01,\n",
              "         -4.9158e-02,  9.3866e-02, -6.4533e-01,  1.2108e+00, -7.8198e-01,\n",
              "          3.8449e-01, -8.5259e-01,  1.0464e+00, -1.8493e+00,  9.1092e-01,\n",
              "         -9.9360e-01,  6.0195e-01, -1.0890e-01,  5.2587e-01, -9.4046e-01,\n",
              "         -1.2773e-01, -2.5679e-01],\n",
              "        [-1.5437e+00,  3.7950e-01, -1.7705e+00, -1.2085e+00,  9.4773e-01,\n",
              "         -9.1355e-01,  7.1023e-01,  7.9512e-01,  5.7662e-01, -7.3778e-01,\n",
              "         -1.5264e+00,  7.1173e-01,  1.4056e+00, -4.0636e-01, -7.4648e-01,\n",
              "          4.9790e-01,  1.1298e-01, -4.1854e-01,  1.7905e-01,  2.3483e-01,\n",
              "          7.3510e-01, -6.1577e-01,  7.0467e-01,  1.1630e-01,  2.8365e-01,\n",
              "         -2.5043e+00, -5.1931e-01],\n",
              "        [-5.9134e-01, -1.1059e-01,  8.3416e-01, -1.0505e+00,  3.6345e-01,\n",
              "          1.8195e-01, -4.8045e-01,  5.3309e-01,  6.7869e-01, -3.5974e-01,\n",
              "         -1.3270e+00, -8.2526e-01,  6.3614e-01,  1.9110e-01,  7.5476e-01,\n",
              "          4.0538e-01,  2.2565e+00,  1.3655e+00, -5.6192e-01, -3.0423e-01,\n",
              "          2.9894e-01,  1.8784e+00,  5.5958e-01,  1.3388e+00,  4.1606e-01,\n",
              "          6.8491e-01, -1.4790e-01],\n",
              "        [ 1.9359e-01,  1.0532e+00,  6.3393e-01,  2.5786e-01,  9.6408e-01,\n",
              "         -2.4855e-01,  2.4756e-02, -3.0404e-02,  1.5622e+00, -4.4852e-01,\n",
              "         -1.2345e+00,  1.1220e+00, -6.7381e-01,  3.7882e-02, -5.5881e-01,\n",
              "         -8.2709e-01,  8.2253e-01, -7.5100e-01,  9.2778e-01, -1.4849e+00,\n",
              "         -2.1293e-01, -1.1860e+00, -6.6092e-01, -2.3348e-01,  1.5447e+00,\n",
              "          6.0061e-01, -7.0909e-01],\n",
              "        [ 1.9217e+00, -1.8182e-01,  1.5220e+00,  5.4644e-01,  4.0858e-01,\n",
              "         -1.9692e+00, -8.9185e-01,  3.2961e-01, -2.5128e-01,  5.5030e-01,\n",
              "         -7.5171e-01, -6.5783e-03, -6.3108e-01,  1.3431e+00,  3.8010e-02,\n",
              "         -7.1654e-01,  1.7206e+00, -5.2149e-01, -2.3248e-01,  1.0774e+00,\n",
              "         -7.6019e-01,  9.0109e-03, -7.9219e-01,  1.2307e+00, -5.2760e-01,\n",
              "         -1.3207e+00, -7.0654e-01],\n",
              "        [-7.7861e-01,  1.2910e+00, -1.5094e+00,  7.4593e-01,  4.8990e-01,\n",
              "         -1.0034e+00,  9.6407e-01,  2.0990e+00, -3.9870e-01, -7.6635e-01,\n",
              "         -2.1007e+00,  1.2331e+00,  7.7481e-01,  2.4311e-01, -2.1322e-01,\n",
              "         -6.9877e-01,  2.0889e-01, -6.2477e-01, -1.0825e-01, -2.1964e+00,\n",
              "          2.7083e-01,  6.1047e-01, -5.8162e-01, -1.7025e+00, -8.0672e-01,\n",
              "         -2.4174e-01,  1.5490e+00],\n",
              "        [-3.4593e-01,  5.4714e-01,  3.1755e-02,  8.1375e-01,  2.6200e-01,\n",
              "         -6.7101e-01,  2.0656e-02,  7.1300e-01, -4.3997e-02, -5.1944e-01,\n",
              "          1.1241e-01, -3.9770e-01, -2.7829e-01, -1.5364e-01, -2.5424e+00,\n",
              "          2.5033e-01,  1.1056e-01, -2.0366e+00, -9.2735e-01, -6.9350e-01,\n",
              "         -5.2788e-01, -8.7438e-01, -1.0102e+00, -1.0522e+00,  1.2348e+00,\n",
              "          2.5907e-02, -9.6676e-01],\n",
              "        [ 1.0904e+00,  5.3966e-01,  6.6741e-01, -2.2316e+00, -1.1603e+00,\n",
              "         -4.2560e-01,  5.9547e-01, -1.0887e+00,  2.4324e-01, -2.1021e+00,\n",
              "         -2.9289e-01, -7.0682e-01,  9.5190e-01, -1.1583e+00, -1.2844e+00,\n",
              "          1.0193e+00,  1.6851e+00,  8.3422e-01,  1.7113e+00,  4.4456e-01,\n",
              "         -7.1861e-01, -7.0343e-01, -7.1332e-01,  9.9760e-01, -6.1980e-01,\n",
              "          1.9522e+00,  1.4311e-01],\n",
              "        [ 1.8765e-01,  7.5974e-01, -2.6387e-01, -7.3048e-01,  6.1955e-01,\n",
              "          3.5577e-02, -7.6459e-02, -1.2306e+00,  1.3419e+00,  1.1878e+00,\n",
              "         -1.0672e+00, -2.1507e+00,  6.7082e-01,  1.1614e+00, -2.4155e-01,\n",
              "          9.5907e-01,  3.8262e-02,  3.9877e-02, -7.7180e-01,  2.9251e-01,\n",
              "         -6.0606e-01, -1.5136e+00, -2.7143e+00, -4.1164e-01, -1.2273e+00,\n",
              "         -4.1746e-01,  1.5021e+00],\n",
              "        [-6.2849e-01, -4.4247e-01,  5.6885e-01,  1.2803e+00, -5.5397e-01,\n",
              "          1.1179e+00, -6.0053e-01, -5.8619e-01, -2.8277e-01,  5.3390e-01,\n",
              "         -9.9388e-01, -1.6996e+00,  1.8362e+00,  4.2016e-01, -6.8729e-01,\n",
              "         -3.5060e-01,  7.5598e-01, -9.3632e-01, -8.4109e-02, -1.6361e+00,\n",
              "          1.0224e+00,  1.0733e+00, -5.7453e-01,  4.9668e-02,  7.2379e-01,\n",
              "          5.9746e-01,  2.6966e+00],\n",
              "        [ 2.7930e+00, -2.2745e+00, -2.3912e-01,  8.7498e-02,  1.4967e+00,\n",
              "         -5.7016e-01, -5.7248e-01,  1.9909e+00, -7.4416e-01,  7.2960e-01,\n",
              "          6.4083e-01,  1.6075e+00, -8.8810e-01,  2.7359e-01, -1.3257e-01,\n",
              "          1.2710e+00,  1.7234e+00,  1.1180e-01,  2.6952e-01,  1.1835e+00,\n",
              "          1.2575e+00,  1.3969e-01,  4.7259e-01,  7.9025e-01,  1.0811e+00,\n",
              "         -9.1965e-01, -4.0503e-01],\n",
              "        [ 4.5696e-01, -5.4184e-01, -2.3025e+00,  2.0127e+00, -4.6452e-01,\n",
              "         -5.8270e-01,  2.0863e+00, -4.7729e-02, -4.4920e-01,  9.5566e-01,\n",
              "         -1.4708e-01, -1.2532e+00, -1.1850e+00,  3.6583e-01, -1.4049e-01,\n",
              "          3.5252e-01, -5.2400e-01, -6.2844e-01, -9.3792e-01,  1.6772e+00,\n",
              "          3.8554e-03, -7.3685e-01, -9.3514e-01,  1.0465e-01, -4.6464e-01,\n",
              "          1.6676e+00,  1.3931e+00],\n",
              "        [ 6.5398e-01, -2.2449e-01,  1.2831e+00, -9.1787e-01, -3.3916e-01,\n",
              "         -1.8058e+00,  6.0518e-01, -5.6252e-01, -7.8933e-01,  1.2767e+00,\n",
              "         -1.0143e+00,  4.1611e-01, -7.5348e-01,  1.7128e+00, -8.7554e-01,\n",
              "          3.9714e-01,  8.4326e-01,  3.7988e-01, -1.1670e+00,  5.5228e-01,\n",
              "         -1.0279e+00, -3.9554e-01, -7.1410e-01, -8.7456e-02, -3.3361e-01,\n",
              "         -1.8798e-01, -1.2647e+00],\n",
              "        [ 2.0021e+00, -2.3470e-01, -1.3765e+00,  9.3426e-01,  1.0880e+00,\n",
              "          1.9179e-01,  3.0114e-01,  8.9896e-01, -8.4454e-01,  2.3267e-01,\n",
              "         -3.9205e-01, -2.5081e-01,  8.7124e-02,  1.3769e+00, -8.3358e-01,\n",
              "         -8.9400e-01,  1.1744e+00, -6.0779e-01, -1.1493e-01, -7.8077e-01,\n",
              "          1.9660e+00,  6.1175e-01,  3.6039e-01, -1.0274e+00,  1.1495e+00,\n",
              "          4.5111e-01,  6.4420e-01],\n",
              "        [ 2.1635e-01, -7.8731e-01, -3.3005e-01,  3.2877e-01, -1.6332e+00,\n",
              "          1.0807e+00,  3.3638e-01,  1.1536e-01,  3.2834e-01,  5.3447e-02,\n",
              "          1.4224e+00, -8.3957e-01, -2.4956e-01, -8.9778e-01, -8.6583e-01,\n",
              "         -1.0786e+00, -1.8384e-01,  7.1622e-01,  1.8175e-01,  1.1053e+00,\n",
              "          1.7003e+00, -1.6965e-01,  1.6293e-01,  1.3413e+00, -2.6301e-01,\n",
              "         -7.5521e-01,  8.1911e-01],\n",
              "        [ 7.4140e-01, -5.8787e-01, -4.6505e-01,  5.3112e-02,  2.2190e+00,\n",
              "         -3.5158e-01,  3.6381e-01,  2.5769e+00,  1.4544e+00, -6.1003e-01,\n",
              "         -5.9961e-01, -5.8392e-01, -1.8104e-02, -9.5177e-01, -9.6400e-01,\n",
              "         -2.8183e-01,  1.0597e+00, -7.2370e-01,  1.4755e-01, -3.2667e-01,\n",
              "          2.4958e+00,  1.1088e+00, -8.5476e-01,  1.8443e+00, -1.3881e-01,\n",
              "          1.3096e+00, -2.5802e-01],\n",
              "        [ 1.0669e+00,  2.1363e-01, -7.6603e-01, -1.6977e+00, -1.5023e-01,\n",
              "         -5.2150e-01, -6.3730e-01,  2.6214e-01,  7.6539e-03,  1.3067e+00,\n",
              "         -6.3482e-01, -1.1042e-04, -6.6158e-01,  1.4723e-01, -6.6036e-02,\n",
              "          5.2851e-01,  5.7950e-01,  2.1438e-01,  9.2200e-01,  5.2919e-01,\n",
              "          7.7070e-01,  4.2899e-01,  3.4330e-01,  2.0698e+00,  1.3405e+00,\n",
              "         -2.1746e-01,  8.6273e-01]])"
            ]
          },
          "metadata": {},
          "execution_count": 188
        }
      ]
    },
    {
      "cell_type": "markdown",
      "source": [
        "![nn.svg](data:image/svg+xml;base64,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)"
      ],
      "metadata": {
        "id": "OI65GQNy-FaN"
      }
    },
    {
      "cell_type": "code",
      "source": [
        "xenc @ W # (5, 27) @ (27, 1) -> (5, 27)"
      ],
      "metadata": {
        "id": "LYn6x0vutMZ_",
        "outputId": "e53b67b3-6118-4f59-db5a-fee8539e0226",
        "colab": {
          "base_uri": "https://localhost:8080/"
        }
      },
      "execution_count": null,
      "outputs": [
        {
          "output_type": "execute_result",
          "data": {
            "text/plain": [
              "tensor([[ 1.5674e+00, -2.3729e-01, -2.7385e-02, -1.1008e+00,  2.8588e-01,\n",
              "         -2.9643e-02, -1.5471e+00,  6.0489e-01,  7.9136e-02,  9.0462e-01,\n",
              "         -4.7125e-01,  7.8682e-01, -3.2843e-01, -4.3297e-01,  1.3729e+00,\n",
              "          2.9334e+00,  1.5618e+00, -1.6261e+00,  6.7716e-01, -8.4039e-01,\n",
              "          9.8488e-01, -1.4837e-01, -1.4795e+00,  4.4830e-01, -7.0730e-02,\n",
              "          2.4968e+00,  2.4448e+00],\n",
              "        [ 4.7236e-01,  1.4830e+00,  3.1748e-01,  1.0588e+00,  2.3982e+00,\n",
              "          4.6827e-01, -6.5650e-01,  6.1662e-01, -6.2197e-01,  5.1007e-01,\n",
              "          1.3563e+00,  2.3445e-01, -4.5585e-01, -1.3132e-03, -5.1161e-01,\n",
              "          5.5570e-01,  4.7458e-01, -1.3867e+00,  1.6229e+00,  1.7197e-01,\n",
              "          9.8846e-01,  5.0657e-01,  1.0198e+00, -1.9062e+00, -4.2753e-01,\n",
              "         -2.1259e+00,  9.6041e-01],\n",
              "        [ 1.9359e-01,  1.0532e+00,  6.3393e-01,  2.5786e-01,  9.6408e-01,\n",
              "         -2.4855e-01,  2.4756e-02, -3.0404e-02,  1.5622e+00, -4.4852e-01,\n",
              "         -1.2345e+00,  1.1220e+00, -6.7381e-01,  3.7882e-02, -5.5881e-01,\n",
              "         -8.2709e-01,  8.2253e-01, -7.5100e-01,  9.2778e-01, -1.4849e+00,\n",
              "         -2.1293e-01, -1.1860e+00, -6.6092e-01, -2.3348e-01,  1.5447e+00,\n",
              "          6.0061e-01, -7.0909e-01],\n",
              "        [ 1.9359e-01,  1.0532e+00,  6.3393e-01,  2.5786e-01,  9.6408e-01,\n",
              "         -2.4855e-01,  2.4756e-02, -3.0404e-02,  1.5622e+00, -4.4852e-01,\n",
              "         -1.2345e+00,  1.1220e+00, -6.7381e-01,  3.7882e-02, -5.5881e-01,\n",
              "         -8.2709e-01,  8.2253e-01, -7.5100e-01,  9.2778e-01, -1.4849e+00,\n",
              "         -2.1293e-01, -1.1860e+00, -6.6092e-01, -2.3348e-01,  1.5447e+00,\n",
              "          6.0061e-01, -7.0909e-01],\n",
              "        [-6.7006e-01, -1.2199e+00,  3.0314e-01, -1.0725e+00,  7.2762e-01,\n",
              "          5.1114e-02,  1.3095e+00, -8.0220e-01, -8.5042e-01, -1.8068e+00,\n",
              "          1.2523e+00, -1.2256e+00,  1.2165e+00, -9.6478e-01, -2.3211e-01,\n",
              "         -3.4762e-01,  3.3244e-01, -1.3263e+00,  1.1224e+00,  5.9641e-01,\n",
              "          4.5846e-01,  5.4011e-02, -1.7400e+00,  1.1560e-01,  8.0319e-01,\n",
              "          5.4108e-01, -1.1646e+00]])"
            ]
          },
          "metadata": {},
          "execution_count": 189
        }
      ]
    },
    {
      "cell_type": "code",
      "source": [
        "logits = xenc @ W\n",
        "counts = logits.exp() # counts, equivalent to N\n",
        "probs = counts / counts.sum(1, keepdims=True)"
      ],
      "metadata": {
        "id": "NyrhC0uzJdc_"
      },
      "execution_count": null,
      "outputs": []
    },
    {
      "cell_type": "code",
      "source": [
        "probs"
      ],
      "metadata": {
        "colab": {
          "base_uri": "https://localhost:8080/"
        },
        "id": "Q6t46KoS_-o2",
        "outputId": "3ac83fb2-e34e-45b2-edef-0bffceb0a3a6"
      },
      "execution_count": null,
      "outputs": [
        {
          "output_type": "execute_result",
          "data": {
            "text/plain": [
              "tensor([[0.0607, 0.0100, 0.0123, 0.0042, 0.0168, 0.0123, 0.0027, 0.0232, 0.0137,\n",
              "         0.0313, 0.0079, 0.0278, 0.0091, 0.0082, 0.0500, 0.2378, 0.0603, 0.0025,\n",
              "         0.0249, 0.0055, 0.0339, 0.0109, 0.0029, 0.0198, 0.0118, 0.1537, 0.1459],\n",
              "        [0.0290, 0.0796, 0.0248, 0.0521, 0.1989, 0.0289, 0.0094, 0.0335, 0.0097,\n",
              "         0.0301, 0.0702, 0.0228, 0.0115, 0.0181, 0.0108, 0.0315, 0.0291, 0.0045,\n",
              "         0.0916, 0.0215, 0.0486, 0.0300, 0.0501, 0.0027, 0.0118, 0.0022, 0.0472],\n",
              "        [0.0312, 0.0737, 0.0484, 0.0333, 0.0674, 0.0200, 0.0263, 0.0249, 0.1226,\n",
              "         0.0164, 0.0075, 0.0789, 0.0131, 0.0267, 0.0147, 0.0112, 0.0585, 0.0121,\n",
              "         0.0650, 0.0058, 0.0208, 0.0078, 0.0133, 0.0203, 0.1204, 0.0469, 0.0126],\n",
              "        [0.0312, 0.0737, 0.0484, 0.0333, 0.0674, 0.0200, 0.0263, 0.0249, 0.1226,\n",
              "         0.0164, 0.0075, 0.0789, 0.0131, 0.0267, 0.0147, 0.0112, 0.0585, 0.0121,\n",
              "         0.0650, 0.0058, 0.0208, 0.0078, 0.0133, 0.0203, 0.1204, 0.0469, 0.0126],\n",
              "        [0.0150, 0.0086, 0.0396, 0.0100, 0.0606, 0.0308, 0.1084, 0.0131, 0.0125,\n",
              "         0.0048, 0.1024, 0.0086, 0.0988, 0.0112, 0.0232, 0.0207, 0.0408, 0.0078,\n",
              "         0.0899, 0.0531, 0.0463, 0.0309, 0.0051, 0.0329, 0.0654, 0.0503, 0.0091]])"
            ]
          },
          "metadata": {},
          "execution_count": 191
        }
      ]
    },
    {
      "cell_type": "code",
      "source": [
        "probs[0].sum()"
      ],
      "metadata": {
        "colab": {
          "base_uri": "https://localhost:8080/"
        },
        "id": "tU-36X0CCH--",
        "outputId": "2d536017-47f1-49b7-90cc-cad537bc48e0"
      },
      "execution_count": null,
      "outputs": [
        {
          "output_type": "execute_result",
          "data": {
            "text/plain": [
              "tensor(1.0000)"
            ]
          },
          "metadata": {},
          "execution_count": 192
        }
      ]
    },
    {
      "cell_type": "code",
      "source": [
        "nlls = torch.zeros(5)\n",
        "for i in range(5):\n",
        "  # i-th bigram:\n",
        "  x = xs[i].item() # input character index\n",
        "  y = ys[i].item() # label character index\n",
        "  print('--------')\n",
        "  print(f'bigram ', x)\n",
        "  print('output probabilities from the neural net:', probs[i])\n",
        "  print('label (actual next character):', y)\n",
        "  p = probs[i, y]\n",
        "  print('probability assigned by the net to the the correct character:', p.item())\n",
        "  logp = torch.log(p)\n",
        "  print('log likelihood:', logp.item())\n",
        "  nll = -logp\n",
        "  print('negative log likelihood:', nll.item())\n",
        "  nlls[i] = nll\n",
        "  loss = nlls.mean()\n",
        "\n",
        "print('=========')\n",
        "print('average negative log likelihood, i.e. loss =', nlls.mean().item())"
      ],
      "metadata": {
        "colab": {
          "base_uri": "https://localhost:8080/"
        },
        "id": "--ghTp2ZDs9E",
        "outputId": "b3283ea8-e8ee-4d50-d2ce-e309d49be520"
      },
      "execution_count": null,
      "outputs": [
        {
          "output_type": "stream",
          "name": "stdout",
          "text": [
            "--------\n",
            "bigram  0\n",
            "output probabilities from the neural net: tensor([0.0607, 0.0100, 0.0123, 0.0042, 0.0168, 0.0123, 0.0027, 0.0232, 0.0137,\n",
            "        0.0313, 0.0079, 0.0278, 0.0091, 0.0082, 0.0500, 0.2378, 0.0603, 0.0025,\n",
            "        0.0249, 0.0055, 0.0339, 0.0109, 0.0029, 0.0198, 0.0118, 0.1537, 0.1459])\n",
            "label (actual next character): 5\n",
            "probability assigned by the net to the the correct character: 0.01228625513613224\n",
            "log likelihood: -4.399273872375488\n",
            "negative log likelihood: 4.399273872375488\n",
            "--------\n",
            "bigram  5\n",
            "output probabilities from the neural net: tensor([0.0290, 0.0796, 0.0248, 0.0521, 0.1989, 0.0289, 0.0094, 0.0335, 0.0097,\n",
            "        0.0301, 0.0702, 0.0228, 0.0115, 0.0181, 0.0108, 0.0315, 0.0291, 0.0045,\n",
            "        0.0916, 0.0215, 0.0486, 0.0300, 0.0501, 0.0027, 0.0118, 0.0022, 0.0472])\n",
            "label (actual next character): 13\n",
            "probability assigned by the net to the the correct character: 0.018050700426101685\n",
            "log likelihood: -4.014570713043213\n",
            "negative log likelihood: 4.014570713043213\n",
            "--------\n",
            "bigram  13\n",
            "output probabilities from the neural net: tensor([0.0312, 0.0737, 0.0484, 0.0333, 0.0674, 0.0200, 0.0263, 0.0249, 0.1226,\n",
            "        0.0164, 0.0075, 0.0789, 0.0131, 0.0267, 0.0147, 0.0112, 0.0585, 0.0121,\n",
            "        0.0650, 0.0058, 0.0208, 0.0078, 0.0133, 0.0203, 0.1204, 0.0469, 0.0126])\n",
            "label (actual next character): 13\n",
            "probability assigned by the net to the the correct character: 0.026691533625125885\n",
            "log likelihood: -3.623408794403076\n",
            "negative log likelihood: 3.623408794403076\n",
            "--------\n",
            "bigram  13\n",
            "output probabilities from the neural net: tensor([0.0312, 0.0737, 0.0484, 0.0333, 0.0674, 0.0200, 0.0263, 0.0249, 0.1226,\n",
            "        0.0164, 0.0075, 0.0789, 0.0131, 0.0267, 0.0147, 0.0112, 0.0585, 0.0121,\n",
            "        0.0650, 0.0058, 0.0208, 0.0078, 0.0133, 0.0203, 0.1204, 0.0469, 0.0126])\n",
            "label (actual next character): 1\n",
            "probability assigned by the net to the the correct character: 0.07367686182260513\n",
            "log likelihood: -2.6080665588378906\n",
            "negative log likelihood: 2.6080665588378906\n",
            "--------\n",
            "bigram  1\n",
            "output probabilities from the neural net: tensor([0.0150, 0.0086, 0.0396, 0.0100, 0.0606, 0.0308, 0.1084, 0.0131, 0.0125,\n",
            "        0.0048, 0.1024, 0.0086, 0.0988, 0.0112, 0.0232, 0.0207, 0.0408, 0.0078,\n",
            "        0.0899, 0.0531, 0.0463, 0.0309, 0.0051, 0.0329, 0.0654, 0.0503, 0.0091])\n",
            "label (actual next character): 0\n",
            "probability assigned by the net to the the correct character: 0.014977526850998402\n",
            "log likelihood: -4.201204299926758\n",
            "negative log likelihood: 4.201204299926758\n",
            "=========\n",
            "average negative log likelihood, i.e. loss = 3.7693049907684326\n"
          ]
        }
      ]
    },
    {
      "cell_type": "markdown",
      "source": [
        "###Optimization"
      ],
      "metadata": {
        "id": "jX74TnrUChWr"
      }
    },
    {
      "cell_type": "code",
      "source": [
        "xs"
      ],
      "metadata": {
        "colab": {
          "base_uri": "https://localhost:8080/"
        },
        "id": "sJWzx9qPDjyU",
        "outputId": "a7d17427-c23e-4e20-e890-745c80c10bd8"
      },
      "execution_count": null,
      "outputs": [
        {
          "output_type": "execute_result",
          "data": {
            "text/plain": [
              "tensor([ 0,  5, 13, 13,  1])"
            ]
          },
          "metadata": {},
          "execution_count": 81
        }
      ]
    },
    {
      "cell_type": "code",
      "source": [
        "ys"
      ],
      "metadata": {
        "colab": {
          "base_uri": "https://localhost:8080/"
        },
        "id": "6GqR6F5SDkfw",
        "outputId": "59567bdb-0006-4b18-960c-b5286731b460"
      },
      "execution_count": null,
      "outputs": [
        {
          "output_type": "execute_result",
          "data": {
            "text/plain": [
              "tensor([ 5, 13, 13,  1,  0])"
            ]
          },
          "metadata": {},
          "execution_count": 82
        }
      ]
    },
    {
      "cell_type": "code",
      "source": [
        "g = torch.Generator().manual_seed(2147483647)\n",
        "W = torch.randn((27, 27), generator=g, requires_grad=True)"
      ],
      "metadata": {
        "id": "vH6-0peMDuyR"
      },
      "execution_count": null,
      "outputs": []
    },
    {
      "cell_type": "code",
      "source": [
        "# forward pass\n",
        "xenc = F.one_hot(xs, num_classes=27).float() # input to the network: one-hot encoding\n",
        "logits = xenc @ W # predict log-counts\n",
        "counts = logits.exp() # counts, equivalent to N\n",
        "probs = counts / counts.sum(1, keepdims=True) # probabilities for next character\n",
        "loss = -probs[torch.arange(5), ys].log().mean()"
      ],
      "metadata": {
        "id": "xOcKkCu9DzR5"
      },
      "execution_count": null,
      "outputs": []
    },
    {
      "cell_type": "code",
      "source": [
        "loss.item()"
      ],
      "metadata": {
        "colab": {
          "base_uri": "https://localhost:8080/"
        },
        "id": "EvqeNVLvGh0y",
        "outputId": "5994016b-bd68-4061-b453-5d5dec2f1fe6"
      },
      "execution_count": null,
      "outputs": [
        {
          "output_type": "execute_result",
          "data": {
            "text/plain": [
              "3.7091541290283203"
            ]
          },
          "metadata": {},
          "execution_count": 224
        }
      ]
    },
    {
      "cell_type": "code",
      "source": [
        "# 3.7693049907684326\n",
        "# 3.7492127418518066\n",
        "# 3.7291626930236816\n",
        "# 3.7091541290283203"
      ],
      "metadata": {
        "id": "mUjLiXOqJEWo"
      },
      "execution_count": null,
      "outputs": []
    },
    {
      "cell_type": "code",
      "source": [
        "# backward pass\n",
        "W.grad = None # set to zero the gradient\n",
        "loss.backward()"
      ],
      "metadata": {
        "id": "h5JFq_ZKFC2h"
      },
      "execution_count": null,
      "outputs": []
    },
    {
      "cell_type": "code",
      "source": [
        "W.grad[0]"
      ],
      "metadata": {
        "colab": {
          "base_uri": "https://localhost:8080/"
        },
        "id": "zNfqPH1dFLR3",
        "outputId": "881193f8-062f-45e4-fa8d-dc58da163dfd"
      },
      "execution_count": null,
      "outputs": [
        {
          "output_type": "execute_result",
          "data": {
            "text/plain": [
              "tensor([ 0.0122,  0.0020,  0.0025,  0.0008,  0.0034, -0.1974,  0.0005,  0.0046,\n",
              "         0.0027,  0.0063,  0.0016,  0.0056,  0.0018,  0.0016,  0.0100,  0.0473,\n",
              "         0.0121,  0.0005,  0.0050,  0.0011,  0.0068,  0.0022,  0.0006,  0.0040,\n",
              "         0.0024,  0.0307,  0.0291])"
            ]
          },
          "metadata": {},
          "execution_count": 220
        }
      ]
    },
    {
      "cell_type": "code",
      "source": [
        "W.data += -0.1 * W.grad"
      ],
      "metadata": {
        "id": "vv3QV2QUGOpA"
      },
      "execution_count": null,
      "outputs": []
    },
    {
      "cell_type": "code",
      "source": [
        "W.data[0]"
      ],
      "metadata": {
        "colab": {
          "base_uri": "https://localhost:8080/"
        },
        "id": "HfqRDG-BGEV4",
        "outputId": "f6125517-08b9-4622-9bde-2bb029dd127a"
      },
      "execution_count": null,
      "outputs": [
        {
          "output_type": "execute_result",
          "data": {
            "text/plain": [
              "tensor([ 1.5637, -0.2379, -0.0281, -1.1010,  0.2849,  0.0296, -1.5472,  0.6035,\n",
              "         0.0783,  0.9027, -0.4717,  0.7852, -0.3290, -0.4335,  1.3699,  2.9191,\n",
              "         1.5582, -1.6262,  0.6757, -0.8407,  0.9828, -0.1490, -1.4797,  0.4471,\n",
              "        -0.0714,  2.4876,  2.4360])"
            ]
          },
          "metadata": {},
          "execution_count": 222
        }
      ]
    },
    {
      "cell_type": "markdown",
      "source": [
        "###Now let's do this for the whole dataset"
      ],
      "metadata": {
        "id": "U39uSHYMHkUK"
      }
    },
    {
      "cell_type": "code",
      "source": [
        "words_[:10]"
      ],
      "metadata": {
        "colab": {
          "base_uri": "https://localhost:8080/"
        },
        "id": "nHdkrhrCJskX",
        "outputId": "c10280af-702d-45b7-b562-5aa3b9c22c8c"
      },
      "execution_count": null,
      "outputs": [
        {
          "output_type": "execute_result",
          "data": {
            "text/plain": [
              "['.emma.',\n",
              " '.olivia.',\n",
              " '.ava.',\n",
              " '.isabella.',\n",
              " '.sophia.',\n",
              " '.charlotte.',\n",
              " '.mia.',\n",
              " '.amelia.',\n",
              " '.harper.',\n",
              " '.evelyn.']"
            ]
          },
          "metadata": {},
          "execution_count": 226
        }
      ]
    },
    {
      "cell_type": "code",
      "source": [
        "xs,ys=[],[]\n",
        "\n",
        "for w in words_:\n",
        "  for i in range(len(w)-1):\n",
        "    x = stoi[w[i]]\n",
        "    xs.append(x)\n",
        "    y = stoi[w[i+1]]\n",
        "    ys.append(y)\n",
        "    # print(x, y)\n",
        "    # print(w[i:i+2])\n",
        "\n",
        "xs = torch.tensor(xs)\n",
        "ys = torch.tensor(ys)"
      ],
      "metadata": {
        "id": "HVXdwJJlHr-S"
      },
      "execution_count": null,
      "outputs": []
    },
    {
      "cell_type": "code",
      "source": [
        "g = torch.Generator().manual_seed(2147483647)\n",
        "W = torch.randn((27, 27), generator=g, requires_grad=True)"
      ],
      "metadata": {
        "id": "kU6TchhVIOqX"
      },
      "execution_count": null,
      "outputs": []
    },
    {
      "cell_type": "code",
      "source": [
        "for i in range(100):\n",
        "  # forward pass\n",
        "  xenc = F.one_hot(xs, num_classes=27).float() # input to the network: one-hot encoding\n",
        "  logits = xenc @ W # predict log-counts\n",
        "  counts = logits.exp() # counts, equivalent to N\n",
        "  probs = counts / counts.sum(1, keepdims=True) # probabilities for next character\n",
        "  loss = -probs[torch.arange(len(ys)), ys].log().mean() + 0.01*(W**2).mean() #L2 Regularization\n",
        "\n",
        "  print(loss.item())\n",
        "\n",
        "  W.grad = None # set to zero the gradient\n",
        "  loss.backward()\n",
        "\n",
        "  W.data += -100 * W.grad"
      ],
      "metadata": {
        "colab": {
          "base_uri": "https://localhost:8080/"
        },
        "id": "Z61Wyr5qKAfi",
        "outputId": "cc9506b1-057d-4a48-8a98-93f540da012c"
      },
      "execution_count": null,
      "outputs": [
        {
          "output_type": "stream",
          "name": "stdout",
          "text": [
            "3.7686190605163574\n",
            "3.1362504959106445\n",
            "2.9207499027252197\n",
            "2.8068222999572754\n",
            "2.7409591674804688\n",
            "2.694500684738159\n",
            "2.663313865661621\n",
            "2.6394026279449463\n",
            "2.631334066390991\n",
            "2.617144823074341\n",
            "2.6260855197906494\n",
            "2.5915274620056152\n",
            "2.5851943492889404\n",
            "2.577758550643921\n",
            "2.591891288757324\n",
            "2.5631539821624756\n",
            "2.5623486042022705\n",
            "2.5569398403167725\n",
            "2.5732851028442383\n",
            "2.5468037128448486\n",
            "2.548506736755371\n",
            "2.5443506240844727\n",
            "2.5619425773620605\n",
            "2.5365190505981445\n",
            "2.5394656658172607\n",
            "2.536151647567749\n",
            "2.554535388946533\n",
            "2.529625177383423\n",
            "2.533214569091797\n",
            "2.5304808616638184\n",
            "2.5494015216827393\n",
            "2.5247480869293213\n",
            "2.5286865234375\n",
            "2.5263612270355225\n",
            "2.545660972595215\n",
            "2.5211451053619385\n",
            "2.525287389755249\n",
            "2.5232529640197754\n",
            "2.542827844619751\n",
            "2.5183935165405273\n",
            "2.52266526222229\n",
            "2.520841598510742\n",
            "2.540619134902954\n",
            "2.5162394046783447\n",
            "2.520599365234375\n",
            "2.518933057785034\n",
            "2.538862466812134\n",
            "2.5145232677459717\n",
            "2.5189497470855713\n",
            "2.517396926879883\n",
            "2.5374412536621094\n",
            "2.513134717941284\n",
            "2.5176124572753906\n",
            "2.516145706176758\n",
            "2.5362777709960938\n",
            "2.511997699737549\n",
            "2.516517162322998\n",
            "2.5151145458221436\n",
            "2.5353147983551025\n",
            "2.5110559463500977\n",
            "2.5156092643737793\n",
            "2.5142552852630615\n",
            "2.5345075130462646\n",
            "2.510270118713379\n",
            "2.5148544311523438\n",
            "2.513535976409912\n",
            "2.5338306427001953\n",
            "2.5096046924591064\n",
            "2.5142111778259277\n",
            "2.512924909591675\n",
            "2.5332531929016113\n",
            "2.509040117263794\n",
            "2.513666868209839\n",
            "2.5124032497406006\n",
            "2.532759428024292\n",
            "2.508556365966797\n",
            "2.513200044631958\n",
            "2.5119547843933105\n",
            "2.5323333740234375\n",
            "2.508138418197632\n",
            "2.512795925140381\n",
            "2.511566400527954\n",
            "2.531963586807251\n",
            "2.50777530670166\n",
            "2.5124447345733643\n",
            "2.51122784614563\n",
            "2.5316407680511475\n",
            "2.507457971572876\n",
            "2.5121374130249023\n",
            "2.510930299758911\n",
            "2.5313560962677\n",
            "2.507178544998169\n",
            "2.5118680000305176\n",
            "2.510668992996216\n",
            "2.5311055183410645\n",
            "2.5069310665130615\n",
            "2.5116281509399414\n",
            "2.510436534881592\n",
            "2.530881881713867\n",
            "2.506711959838867\n"
          ]
        }
      ]
    },
    {
      "cell_type": "code",
      "source": [
        "# finally, sample from the 'neural net' model\n",
        "g = torch.Generator().manual_seed(2147483647)\n",
        "\n",
        "for i in range(10):\n",
        "\n",
        "  out = []\n",
        "  ix = 0\n",
        "  while True:\n",
        "    xenc = F.one_hot(torch.tensor([ix]), num_classes=27).float()\n",
        "    logits = xenc @ W # predict log-counts\n",
        "    counts = logits.exp() # counts, equivalent to N\n",
        "    p = counts / counts.sum(1, keepdims=True) # probabilities for next character\n",
        "\n",
        "    ix = torch.multinomial(p, num_samples=1, replacement=True, generator=g).item()\n",
        "    # ix = torch.argmax(p).item() # Greedy Sampling\n",
        "    out.append(itos[ix])\n",
        "    if ix == 0:\n",
        "      break\n",
        "  print(''.join(out))"
      ],
      "metadata": {
        "colab": {
          "base_uri": "https://localhost:8080/"
        },
        "id": "4A1h9RPeKh7_",
        "outputId": "27620b72-c7e8-4cc3-85d3-08b1dfd1def1"
      },
      "execution_count": null,
      "outputs": [
        {
          "output_type": "stream",
          "name": "stdout",
          "text": [
            "junide.\n",
            "janasah.\n",
            "prelay.\n",
            "ainna.\n",
            "ji.\n",
            "ritolian.\n",
            "juee.\n",
            "ksahnaauranilevias.\n",
            "dedainrwietanssonielylarte.\n",
            "faveumerifontume.\n"
          ]
        }
      ]
    },
    {
      "cell_type": "code",
      "source": [
        "p"
      ],
      "metadata": {
        "colab": {
          "base_uri": "https://localhost:8080/"
        },
        "id": "Sbdsp5yLN877",
        "outputId": "fd56fc07-7985-4746-bdbe-f35f82cd9b23"
      },
      "execution_count": null,
      "outputs": [
        {
          "output_type": "execute_result",
          "data": {
            "text/plain": [
              "tensor(0.1943, grad_fn=<MaxBackward1>)"
            ]
          },
          "metadata": {},
          "execution_count": 265
        }
      ]
    },
    {
      "cell_type": "code",
      "source": [
        "# prompt: get the index of the higest value in p\n",
        "\n",
        "idx = torch.argmax(p)\n",
        "idx\n"
      ],
      "metadata": {
        "colab": {
          "base_uri": "https://localhost:8080/"
        },
        "id": "ZSV886irNStL",
        "outputId": "554468f9-f0e2-455f-f5e3-fc821536b600"
      },
      "execution_count": null,
      "outputs": [
        {
          "output_type": "execute_result",
          "data": {
            "text/plain": [
              "tensor(0)"
            ]
          },
          "metadata": {},
          "execution_count": 263
        }
      ]
    }
  ]
}