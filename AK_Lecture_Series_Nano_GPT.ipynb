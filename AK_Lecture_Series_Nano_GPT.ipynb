{
  "cells": [
    {
      "cell_type": "markdown",
      "metadata": {
        "id": "view-in-github",
        "colab_type": "text"
      },
      "source": [
        "<a href=\"https://colab.research.google.com/github/ManuSinghYadav/Andrej_Karpathy_Zero_to_Hero/blob/main/AK_Lecture_Series_Nano_GPT.ipynb\" target=\"_parent\"><img src=\"https://colab.research.google.com/assets/colab-badge.svg\" alt=\"Open In Colab\"/></a>"
      ]
    },
    {
      "cell_type": "code",
      "execution_count": null,
      "metadata": {
        "id": "ZrqB4Z-5Riut"
      },
      "outputs": [],
      "source": [
        "import torch\n",
        "import torch.nn as nn\n",
        "from torch.nn import functional as F"
      ]
    },
    {
      "cell_type": "code",
      "execution_count": null,
      "metadata": {
        "colab": {
          "base_uri": "https://localhost:8080/"
        },
        "id": "f-lqMfRTETN9",
        "outputId": "96f0ab51-2eb1-4f93-9c94-69c8d9089ad5"
      },
      "outputs": [
        {
          "name": "stdout",
          "output_type": "stream",
          "text": [
            "--2025-07-07 11:08:18--  https://raw.githubusercontent.com/karpathy/char-rnn/master/data/tinyshakespeare/input.txt\n",
            "Resolving raw.githubusercontent.com (raw.githubusercontent.com)... 185.199.108.133, 185.199.109.133, 185.199.110.133, ...\n",
            "Connecting to raw.githubusercontent.com (raw.githubusercontent.com)|185.199.108.133|:443... connected.\n",
            "HTTP request sent, awaiting response... 200 OK\n",
            "Length: 1115394 (1.1M) [text/plain]\n",
            "Saving to: ‘input.txt’\n",
            "\n",
            "input.txt           100%[===================>]   1.06M  --.-KB/s    in 0.06s   \n",
            "\n",
            "2025-07-07 11:08:19 (16.6 MB/s) - ‘input.txt’ saved [1115394/1115394]\n",
            "\n"
          ]
        }
      ],
      "source": [
        "!wget https://raw.githubusercontent.com/karpathy/char-rnn/master/data/tinyshakespeare/input.txt"
      ]
    },
    {
      "cell_type": "code",
      "execution_count": null,
      "metadata": {
        "id": "TtDPnio_MryD"
      },
      "outputs": [],
      "source": [
        "# read it in to inspect it\n",
        "with open('input.txt', 'r', encoding='utf-8') as f:\n",
        "    text = f.read()"
      ]
    },
    {
      "cell_type": "code",
      "execution_count": null,
      "metadata": {
        "colab": {
          "base_uri": "https://localhost:8080/"
        },
        "id": "5h4lpqh0MuNK",
        "outputId": "75d8ecdf-1748-48b6-ffd6-6a310b6a7301"
      },
      "outputs": [
        {
          "name": "stdout",
          "output_type": "stream",
          "text": [
            "First Citizen:\n",
            "Before we proceed any further, hear me speak.\n",
            "\n",
            "All:\n",
            "Speak, speak.\n",
            "\n",
            "First Citizen:\n",
            "You\n"
          ]
        }
      ],
      "source": [
        "print(text[:100])"
      ]
    },
    {
      "cell_type": "code",
      "execution_count": null,
      "metadata": {
        "colab": {
          "base_uri": "https://localhost:8080/"
        },
        "id": "NNZlEwzNM1u0",
        "outputId": "66690d50-b56b-46a4-9398-30605851978d"
      },
      "outputs": [
        {
          "name": "stdout",
          "output_type": "stream",
          "text": [
            " 1,115,394\n"
          ]
        }
      ],
      "source": [
        "print(f\"{len(text): ,}\")"
      ]
    },
    {
      "cell_type": "code",
      "execution_count": null,
      "metadata": {
        "id": "VwtJWrF7NtKn"
      },
      "outputs": [],
      "source": [
        "# Unique Charecters\n",
        "chars = sorted(list(set(text)))\n",
        "vocab_size = len(chars)"
      ]
    },
    {
      "cell_type": "code",
      "execution_count": null,
      "metadata": {
        "colab": {
          "base_uri": "https://localhost:8080/",
          "height": 37
        },
        "id": "zmqz-gYYNzH-",
        "outputId": "bdf4b2dd-046c-4bda-ab8e-d6c530849b9b"
      },
      "outputs": [
        {
          "data": {
            "application/vnd.google.colaboratory.intrinsic+json": {
              "type": "string"
            },
            "text/plain": [
              "\"\\n !$&',-.3:;?ABCDEFGHIJKLMNOPQRSTUVWXYZabcdefghijklmnopqrstuvwxyz\""
            ]
          },
          "execution_count": 9,
          "metadata": {},
          "output_type": "execute_result"
        }
      ],
      "source": [
        "''.join(chars)"
      ]
    },
    {
      "cell_type": "code",
      "execution_count": null,
      "metadata": {
        "colab": {
          "base_uri": "https://localhost:8080/"
        },
        "id": "DuQwW0TNOUme",
        "outputId": "fd901f07-edaa-46c4-90c5-f8673f204466"
      },
      "outputs": [
        {
          "name": "stdout",
          "output_type": "stream",
          "text": [
            "[46, 47, 47, 1, 58, 46, 43, 56, 43]\n",
            "hii there\n"
          ]
        }
      ],
      "source": [
        "# @title Mapping (for both encoding and decoding)\n",
        "stoi = { ch:i for i,ch in enumerate(chars) }\n",
        "itos = { i:ch for i,ch in enumerate(chars) }\n",
        "\n",
        "encode = lambda s: [stoi[c] for c in s]\n",
        "decode = lambda l: ''.join([itos[i] for i in l])\n",
        "\n",
        "print(encode(\"hii there\"))\n",
        "print(decode(encode(\"hii there\")))"
      ]
    },
    {
      "cell_type": "code",
      "execution_count": null,
      "metadata": {
        "colab": {
          "base_uri": "https://localhost:8080/"
        },
        "id": "Q7pcjsO3RJUj",
        "outputId": "27746c31-ece0-4111-cb74-136d46d59954"
      },
      "outputs": [
        {
          "name": "stdout",
          "output_type": "stream",
          "text": [
            "tensor([18, 47, 56, 57, 58,  1, 15, 47, 58, 47, 64, 43, 52, 10,  0, 14, 43, 44,\n",
            "        53, 56, 43,  1, 61, 43,  1, 54, 56, 53, 41, 43, 43, 42,  1, 39, 52, 63,\n",
            "         1, 44, 59, 56, 58, 46, 43, 56,  6,  1, 46, 43, 39, 56,  1, 51, 43,  1,\n",
            "        57, 54, 43, 39, 49,  8,  0,  0, 13, 50, 50, 10,  0, 31, 54, 43, 39, 49,\n",
            "         6,  1, 57, 54, 43, 39, 49,  8,  0,  0, 18, 47, 56, 57, 58,  1, 15, 47,\n",
            "        58, 47, 64, 43, 52, 10,  0, 37, 53, 59])\n"
          ]
        }
      ],
      "source": [
        "# @title Encode entire dataset\n",
        "data = torch.tensor(encode(text))\n",
        "print(data[:100])"
      ]
    },
    {
      "cell_type": "code",
      "execution_count": null,
      "metadata": {
        "id": "55KiWNXXRxfF"
      },
      "outputs": [],
      "source": [
        "# @title Train-test split\n",
        "n = int(len(data) * 0.9)\n",
        "train_data = data[:n]\n",
        "val_data = data[n:]"
      ]
    },
    {
      "cell_type": "code",
      "execution_count": null,
      "metadata": {
        "colab": {
          "base_uri": "https://localhost:8080/"
        },
        "id": "X8Uc1_4cTRdF",
        "outputId": "981589fd-449f-4579-d8b3-fbfea3c7e4e8"
      },
      "outputs": [
        {
          "data": {
            "text/plain": [
              "tensor([18, 47, 56, 57, 58,  1, 15, 47, 58])"
            ]
          },
          "execution_count": 13,
          "metadata": {},
          "output_type": "execute_result"
        }
      ],
      "source": [
        "# @title Context window setup\n",
        "block_size = 8\n",
        "train_data[:block_size+1]"
      ]
    },
    {
      "cell_type": "code",
      "execution_count": null,
      "metadata": {
        "colab": {
          "base_uri": "https://localhost:8080/"
        },
        "id": "JkB_GK4KUOj1",
        "outputId": "f099a1e2-feec-4b61-ec86-922c9877770b"
      },
      "outputs": [
        {
          "name": "stdout",
          "output_type": "stream",
          "text": [
            "x: tensor([18, 47, 56, 57, 58,  1, 15, 47]) \n",
            "y: tensor([47, 56, 57, 58,  1, 15, 47, 58])\n"
          ]
        }
      ],
      "source": [
        "x = train_data[:block_size]\n",
        "y = train_data[1:block_size+1]\n",
        "print(f\"x: {x} \\ny: {y}\")"
      ]
    },
    {
      "cell_type": "code",
      "execution_count": null,
      "metadata": {
        "id": "5BTyrzsSUtW_"
      },
      "outputs": [],
      "source": [
        "# @title Batch setup\n",
        "torch.manual_seed(1337)\n",
        "batch_size = 4\n",
        "\n",
        "def get_batch(split):\n",
        "    data = train_data if split == 'train' else val_data\n",
        "    ix = torch.randint(len(data) - block_size, (batch_size,))\n",
        "    x = torch.stack([data[i:i+block_size] for i in ix])\n",
        "    y = torch.stack([data[i+1:i+block_size+1] for i in ix])\n",
        "    return x, y"
      ]
    },
    {
      "cell_type": "code",
      "execution_count": null,
      "metadata": {
        "colab": {
          "base_uri": "https://localhost:8080/"
        },
        "id": "17t5l6pUYf1c",
        "outputId": "c59cef8a-5416-4925-8fed-5ff5f40f4dae"
      },
      "outputs": [
        {
          "data": {
            "text/plain": [
              "(tensor([[24, 43, 58,  5, 57,  1, 46, 43],\n",
              "         [44, 53, 56,  1, 58, 46, 39, 58],\n",
              "         [52, 58,  1, 58, 46, 39, 58,  1],\n",
              "         [25, 17, 27, 10,  0, 21,  1, 54]]),\n",
              " tensor([[43, 58,  5, 57,  1, 46, 43, 39],\n",
              "         [53, 56,  1, 58, 46, 39, 58,  1],\n",
              "         [58,  1, 58, 46, 39, 58,  1, 46],\n",
              "         [17, 27, 10,  0, 21,  1, 54, 39]]))"
            ]
          },
          "execution_count": 252,
          "metadata": {},
          "output_type": "execute_result"
        }
      ],
      "source": [
        "xb, yb = get_batch('train')\n",
        "xb, yb"
      ]
    },
    {
      "cell_type": "code",
      "execution_count": null,
      "metadata": {
        "colab": {
          "base_uri": "https://localhost:8080/"
        },
        "id": "cTRlCem5NJJ9",
        "outputId": "fecb4166-870d-47e9-f51e-47d6c204c5db"
      },
      "outputs": [
        {
          "name": "stdout",
          "output_type": "stream",
          "text": [
            "AcGSdjZkr FIfV:jmhDbkiEV:R.h.jGbok'clQA:rE?LCrYN?ww3D$;s -VhE3Q'XVtEaMVo-TXTOvm3A3$VWPCFVgCvewDlIQ\n",
            "UO\n"
          ]
        }
      ],
      "source": [
        "# @title Bigram Setup\n",
        "class BigramLanguageModel(nn.Module):\n",
        "  def __init__(self, vocab_size):\n",
        "    super().__init__()\n",
        "    self.token_embedding_table = nn.Embedding(vocab_size, vocab_size)\n",
        "\n",
        "  def forward(self, idx, targets=None):\n",
        "    \"\"\"idx (B, T), targets (B, T).\"\"\"\n",
        "    logits = self.token_embedding_table(idx) # (B, T, C)\n",
        "    if targets is None:\n",
        "      loss = None\n",
        "    else:\n",
        "      B, T, C = logits.shape\n",
        "      logits = logits.view(B*T, C)\n",
        "      targets = targets.view(B*T)\n",
        "      loss = F.cross_entropy(logits, targets)\n",
        "    return logits, loss\n",
        "\n",
        "  def generate(self, idx, max_new_tokens):\n",
        "    for i in range(max_new_tokens):\n",
        "      logits, loss = self.forward(idx)\n",
        "      logits = logits[:,-1,:] # Picking the last row of each batch.\n",
        "      probs = F.softmax(logits, dim=-1)\n",
        "      idx_next = torch.multinomial(probs, num_samples=1)\n",
        "      idx = torch.cat((idx, idx_next), dim=1)\n",
        "    return idx\n",
        "\n",
        "m = BigramLanguageModel(vocab_size)\n",
        "logits, loss = m.forward(xb,yb)\n",
        "\n",
        "output = m.generate(torch.tensor([[13]]), 100)\n",
        "print(decode(output[0].tolist()))"
      ]
    },
    {
      "cell_type": "code",
      "execution_count": null,
      "metadata": {
        "colab": {
          "base_uri": "https://localhost:8080/"
        },
        "id": "65MiCdIxsmXJ",
        "outputId": "7024dc3d-f6e4-492f-a9cf-bf36a3af3963"
      },
      "outputs": [
        {
          "name": "stdout",
          "output_type": "stream",
          "text": [
            "   0 / 1000 :  4.658271\n",
            " 500 / 1000 :  4.100937\n",
            "1000 / 1000 :  3.786101\n",
            "1500 / 1000 :  3.426409\n",
            "2000 / 1000 :  3.134285\n",
            "2500 / 1000 :  3.002464\n",
            "3000 / 1000 :  2.658358\n",
            "3500 / 1000 :  2.757277\n",
            "4000 / 1000 :  2.605098\n",
            "4500 / 1000 :  2.525246\n",
            "5000 / 1000 :  2.579212\n",
            "5500 / 1000 :  2.560179\n",
            "6000 / 1000 :  2.538840\n",
            "6500 / 1000 :  2.434014\n",
            "7000 / 1000 :  2.433148\n",
            "7500 / 1000 :  2.352535\n",
            "8000 / 1000 :  2.408124\n",
            "8500 / 1000 :  2.433011\n",
            "9000 / 1000 :  2.507345\n",
            "9500 / 1000 :  2.365025\n",
            "Anng h hasbe pave pirance\n",
            "RDe hicomyonthar's\n",
            "PES:\n",
            "AKEd itClel ourzincenonthioneir thondy, y heltieiengerofo'dsssit eFitcild pe wish3bevouprrurknthacnohathe; d!\n",
            "MyWhind tt hinig t oPixxis es; st yo hind wotin grotonear 'so itJs jod weancotha:\n",
            "h hay.JLile n prids, r loncave w hollular s O:\n",
            "HIs; ht anjx?\n",
            "\n",
            "DJe inqunt.\n",
            "\n",
            "LaZEELAndathave l.\n",
            "KEONH:\n",
            "ARThanco be y,-JZNEEYowddy scat t tridesar, wyonthenous sels,&UMuresseys\n",
            "PlorseelapinghienHen yof Gand m t l-h!E:\n",
            "I hisgothers jveere!-e!\n",
            "QUCotouciullle's fld\n"
          ]
        }
      ],
      "source": [
        "# @title Training\n",
        "optimizer = torch.optim.AdamW(m.parameters(), lr=1e-3)\n",
        "batch_size = 32\n",
        "\n",
        "for i in range(10000):\n",
        "  xb, yb = get_batch('train')\n",
        "  logits, loss = m(xb, yb)\n",
        "  optimizer.zero_grad(set_to_none=True)\n",
        "  loss.backward()\n",
        "  optimizer.step()\n",
        "  if i%500 == 0:\n",
        "    print(f\"{i:4d} / 1000 : {loss.item(): 3f}\")\n",
        "\n",
        "  if i == 8000:\n",
        "    optimizer = torch.optim.AdamW(m.parameters(), lr=1e-5)  # Learning rate decay\n",
        "\n",
        "output = m.generate(torch.tensor([[13]]), 500)\n",
        "print(decode(output[0].tolist()))"
      ]
    },
    {
      "cell_type": "markdown",
      "metadata": {
        "id": "sKGdsmRf6aZF"
      },
      "source": [
        "### Mathematical trick in Masking"
      ]
    },
    {
      "cell_type": "markdown",
      "metadata": {
        "id": "RSEAxNnbC4z-"
      },
      "source": [
        "We need to calculate the average of the previous tokens (we'll use softmax version)."
      ]
    },
    {
      "cell_type": "code",
      "execution_count": null,
      "metadata": {
        "colab": {
          "base_uri": "https://localhost:8080/"
        },
        "id": "4_W7wGM_AXte",
        "outputId": "67aa00eb-2e08-4e0e-f2a4-2a492219b3eb"
      },
      "outputs": [
        {
          "name": "stdout",
          "output_type": "stream",
          "text": [
            "tensor([[1., 1., 1.],\n",
            "        [1., 1., 1.],\n",
            "        [1., 1., 1.]]) \n",
            "\n",
            "tensor([[3., 0.],\n",
            "        [9., 6.],\n",
            "        [3., 0.]]) \n",
            "\n",
            "tensor([[15.,  6.],\n",
            "        [15.,  6.],\n",
            "        [15.,  6.]])\n"
          ]
        }
      ],
      "source": [
        "a = torch.ones(3, 3)\n",
        "b = torch.randint(0,10,(3,2), dtype=torch.float)\n",
        "\n",
        "print(a,'\\n')\n",
        "print(b,'\\n')\n",
        "print(a @ b)"
      ]
    },
    {
      "cell_type": "code",
      "execution_count": null,
      "metadata": {
        "colab": {
          "base_uri": "https://localhost:8080/"
        },
        "id": "gTH15_qDCf1N",
        "outputId": "ac298f5b-be4b-4c38-e3bc-c10ac3532ed5"
      },
      "outputs": [
        {
          "name": "stdout",
          "output_type": "stream",
          "text": [
            "tensor([[1., 0., 0.],\n",
            "        [1., 1., 0.],\n",
            "        [1., 1., 1.]]) \n",
            "\n",
            "tensor([[3., 0.],\n",
            "        [9., 6.],\n",
            "        [3., 0.]]) \n",
            "\n",
            "tensor([[ 3.,  0.],\n",
            "        [12.,  6.],\n",
            "        [15.,  6.]])\n"
          ]
        }
      ],
      "source": [
        "# This is doing the sum of the previous tokens.\n",
        "a = torch.tril(torch.ones(3, 3))\n",
        "print(a,'\\n')\n",
        "print(b,'\\n')\n",
        "print(a @ b)"
      ]
    },
    {
      "cell_type": "code",
      "execution_count": null,
      "metadata": {
        "colab": {
          "base_uri": "https://localhost:8080/"
        },
        "id": "TxKaD8ckC18U",
        "outputId": "05a522fc-8660-4643-840a-404591d238b7"
      },
      "outputs": [
        {
          "name": "stdout",
          "output_type": "stream",
          "text": [
            "tensor([[1.0000, 0.0000, 0.0000],\n",
            "        [0.5000, 0.5000, 0.0000],\n",
            "        [0.3333, 0.3333, 0.3333]]) \n",
            "\n",
            "tensor([[3., 0.],\n",
            "        [9., 6.],\n",
            "        [3., 0.]]) \n",
            "\n",
            "tensor([[3., 0.],\n",
            "        [6., 3.],\n",
            "        [5., 2.]])\n"
          ]
        }
      ],
      "source": [
        "# Version 1: This is doing the avg of the previous tokens.\n",
        "a = torch.tril(torch.ones(3, 3))\n",
        "a = a / torch.sum(a, dim=1, keepdim=True)\n",
        "print(a,'\\n')\n",
        "print(b,'\\n')\n",
        "print(a @ b)"
      ]
    },
    {
      "cell_type": "code",
      "execution_count": null,
      "metadata": {
        "colab": {
          "base_uri": "https://localhost:8080/"
        },
        "id": "vVToEeB9EQ8P",
        "outputId": "09cb1f40-14b6-4f7f-deb8-2f88b6b73423"
      },
      "outputs": [
        {
          "data": {
            "text/plain": [
              "tensor([[1.0000, 0.0000, 0.0000],\n",
              "        [0.5000, 0.5000, 0.0000],\n",
              "        [0.3333, 0.3333, 0.3333]])"
            ]
          },
          "execution_count": 22,
          "metadata": {},
          "output_type": "execute_result"
        }
      ],
      "source": [
        "# Version 2: Using softmax (In this we replaces the division)\n",
        "a = torch.tril(torch.ones(3, 3))\n",
        "a = a.masked_fill(a==0, float('-inf'))\n",
        "F.softmax(a, -1)"
      ]
    },
    {
      "cell_type": "code",
      "execution_count": null,
      "metadata": {
        "id": "wCdvVEGZjx0U"
      },
      "outputs": [],
      "source": [
        "# @title Self-Attention\n",
        "head_size = 16\n",
        "B, T, C = 4, 8, 32\n",
        "x = torch.randn(B,T,C)\n",
        "\n",
        "Query =  nn.Linear(C, head_size)\n",
        "Key =  nn.Linear(C, head_size)\n",
        "Value =  nn.Linear(C, head_size)\n",
        "\n",
        "q = Query(x)\n",
        "k = Key(x)\n",
        "v = Value(x)\n",
        "\n",
        "wei = q @ k.transpose(-2, -1)  # (B, T, 16) @ (B, 16, T) ---> (B, T, T)\n",
        "\n",
        "# Masking\n",
        "tril = torch.tril(torch.ones(B, T, T))\n",
        "wei = wei.masked_fill(tril == 0, float('-inf'))\n",
        "wei = F.softmax(wei, dim=-1)\n",
        "\n",
        "out = wei @ v"
      ]
    },
    {
      "cell_type": "code",
      "execution_count": null,
      "metadata": {
        "colab": {
          "base_uri": "https://localhost:8080/"
        },
        "id": "GQc_Q2fwt71g",
        "outputId": "b781d8c2-7ed3-4d97-ce7d-0574fc94c813"
      },
      "outputs": [
        {
          "output_type": "execute_result",
          "data": {
            "text/plain": [
              "torch.Size([4, 8, 16])"
            ]
          },
          "metadata": {},
          "execution_count": 104
        }
      ],
      "source": [
        "out.shape"
      ]
    }
  ],
  "metadata": {
    "colab": {
      "provenance": [],
      "authorship_tag": "ABX9TyNpwhw4hO0BYrRs4NCN93fE",
      "include_colab_link": true
    },
    "kernelspec": {
      "display_name": "Python 3",
      "name": "python3"
    },
    "language_info": {
      "name": "python"
    }
  },
  "nbformat": 4,
  "nbformat_minor": 0
}